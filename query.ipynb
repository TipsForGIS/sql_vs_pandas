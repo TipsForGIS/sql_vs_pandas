{
 "cells": [
  {
   "cell_type": "markdown",
   "metadata": {},
   "source": [
    "## import pandas"
   ]
  },
  {
   "cell_type": "code",
   "execution_count": null,
   "metadata": {},
   "outputs": [],
   "source": [
    "import pandas as pd"
   ]
  },
  {
   "cell_type": "markdown",
   "metadata": {},
   "source": [
    "## create a pandas dataframe using worldcities.csv"
   ]
  },
  {
   "cell_type": "code",
   "execution_count": null,
   "metadata": {},
   "outputs": [],
   "source": [
    "wcities_df = pd.read_csv('./world_cities.csv')"
   ]
  },
  {
   "cell_type": "markdown",
   "metadata": {},
   "source": [
    "## SQL equivalent:\n",
    "\n",
    "<font color='blue'>\n",
    "<h3>SELECT COUNT(*)\n",
    "<br>FROM world_cities;</h3>\n",
    "</font>"
   ]
  },
  {
   "cell_type": "code",
   "execution_count": null,
   "metadata": {},
   "outputs": [],
   "source": [
    "wcities_df.shape[0]"
   ]
  },
  {
   "cell_type": "markdown",
   "metadata": {},
   "source": [
    "## SQL equivalent:\n",
    "\n",
    "<font color='blue'>\n",
    "<h3>SELECT city, country, population\n",
    "<br>FROM world_cities\n",
    "<br>LIMIT 7;</h3>\n",
    "</font>"
   ]
  },
  {
   "cell_type": "code",
   "execution_count": null,
   "metadata": {},
   "outputs": [],
   "source": [
    "wcities_df[['city','country','population']].head(7)"
   ]
  },
  {
   "cell_type": "markdown",
   "metadata": {},
   "source": [
    "## SQL equivalent:\n",
    "\n",
    "<font color='blue'>\n",
    "<h3>SELECT city, country, population\n",
    "<br>FROM world_cities\n",
    "<br>WHERE population >= 3000000;</h3>\n",
    "</font>"
   ]
  },
  {
   "cell_type": "code",
   "execution_count": null,
   "metadata": {},
   "outputs": [],
   "source": [
    "filter_rows = wcities_df['population'] >= 3000000\n",
    "filter_columns = ['city', 'country', 'population']\n",
    "\n",
    "wcities_df.loc[filter_rows, filter_columns]\n",
    "\n",
    "#wcities_df.loc[wcities_df['population'] >= 3000000,['city','country','population']]"
   ]
  },
  {
   "cell_type": "markdown",
   "metadata": {},
   "source": [
    "## SQL equivalent:\n",
    "\n",
    "<font color='blue'>\n",
    "<h3>SELECT DISTINCT country\n",
    "<br>FROM world_cities\n",
    "<br>ORDER BY country;</h3>\n",
    "</font>"
   ]
  },
  {
   "cell_type": "code",
   "execution_count": null,
   "metadata": {},
   "outputs": [],
   "source": [
    "sorted_df = wcities_df.sort_values(by='country')\n",
    "pd.Series(sorted_df['country'].unique())\n",
    "\n",
    "#pd.Series(wcities_df.sort_values(by='country')['country'].unique())"
   ]
  },
  {
   "cell_type": "markdown",
   "metadata": {},
   "source": [
    "## SQL equivalent:\n",
    "\n",
    "<font color='blue'>\n",
    "<h3>SELECT country, SUM(population)\n",
    "<br>FROM world_cities\n",
    "<br>GROUP BY 1;</h3>\n",
    "</font>"
   ]
  },
  {
   "cell_type": "code",
   "execution_count": null,
   "metadata": {},
   "outputs": [],
   "source": [
    "wcities_df.groupby('country')['population'].sum()"
   ]
  },
  {
   "cell_type": "markdown",
   "metadata": {},
   "source": [
    "## SQL equivalent:\n",
    "\n",
    "<font color='blue'>\n",
    "<h3>SELECT ci.city, ci.country, co.continent\n",
    "<br>FROM world_cities AS ci\n",
    "<br>JOIN continents AS co\n",
    "<br>ON (ci.country = co.country)\n",
    "<br>ORDER BY ci.city;</h3>\n",
    "</font>"
   ]
  },
  {
   "cell_type": "code",
   "execution_count": null,
   "metadata": {},
   "outputs": [],
   "source": [
    "cont_df = pd.read_csv('./continents.csv')\n",
    "\n",
    "\n",
    "join = pd.merge(left=wcities_df, right=cont_df, how='inner',\n",
    "                 left_on='country', right_on='country')\n",
    "\n",
    "ordered_join = join.sort_values(by='city')\n",
    "ordered_join[['city','country','continent']]\n",
    "\n",
    "#pd.merge(left=wcities_df, right=cont_df, how='inner', left_on='country', right_on='country').sort_values(by='city')[['city','country','continent']]"
   ]
  },
  {
   "cell_type": "markdown",
   "metadata": {},
   "source": [
    "## SQL equivalent:\n",
    "\n",
    "<font color='blue'>\n",
    "<h3>WITH istanbul_geom AS(\n",
    "<ul style=\"list-style-type:none;\">\n",
    "  <li>SELECT geom</li>\n",
    "  <li>FROM world_cities</li>\n",
    "  <li>WHERE city = 'Istanbul'</li>\n",
    "</ul>\n",
    ")\n",
    "<br>SELECT ci.city, ci.country\n",
    "<br>FROM world_cities as ci, istanbul_geom as ig\n",
    "<br>WHERE ST_DWithin(ci.geom, ig.geom, 7)\n",
    "<br>ORDER BY ci.city;</h3>\n",
    "</font>"
   ]
  },
  {
   "cell_type": "code",
   "execution_count": null,
   "metadata": {},
   "outputs": [],
   "source": [
    "import geopandas as gp"
   ]
  },
  {
   "cell_type": "code",
   "execution_count": null,
   "metadata": {},
   "outputs": [],
   "source": [
    "wcities_gdf = gp.GeoDataFrame(\n",
    "            wcities_df, \n",
    "            geometry=gp.points_from_xy(wcities_df.lng, wcities_df.lat),\n",
    "            crs='EPSG:4326')"
   ]
  },
  {
   "cell_type": "code",
   "execution_count": null,
   "metadata": {},
   "outputs": [],
   "source": [
    "istanbul_rownum = wcities_gdf[wcities_gdf['city'] == 'Istanbul'].index[0]\n",
    "istanbul_pnt = wcities_gdf.loc[istanbul_rownum,'geometry']\n",
    "\n",
    "filter_rows = wcities_gdf['geometry'].distance(istanbul_pnt) <= 7\n",
    "\n",
    "filter_columns = ['city','country']\n",
    "\n",
    "wcities_gdf.loc[filter_rows,filter_columns]"
   ]
  },
  {
   "cell_type": "code",
   "execution_count": null,
   "metadata": {},
   "outputs": [],
   "source": []
  }
 ],
 "metadata": {
  "kernelspec": {
   "display_name": "Python 3",
   "language": "python",
   "name": "python3"
  },
  "language_info": {
   "codemirror_mode": {
    "name": "ipython",
    "version": 3
   },
   "file_extension": ".py",
   "mimetype": "text/x-python",
   "name": "python",
   "nbconvert_exporter": "python",
   "pygments_lexer": "ipython3",
   "version": "3.7.6"
  }
 },
 "nbformat": 4,
 "nbformat_minor": 4
}
